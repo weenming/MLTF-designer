{
 "cells": [
  {
   "cell_type": "code",
   "execution_count": null,
   "metadata": {},
   "outputs": [],
   "source": [
    "import sys\n",
    "sys.path.append('./../')\n",
    "sys.path.append('./../designer/script')\n",
    "\n",
    "from designer.script.spectrum import BaseSpectrum\n",
    "from designer.script.film import TwoMaterialFilm\n",
    "import designer.script.optimizer.adam as adam\n",
    "import numpy as np\n",
    "import matplotlib.pyplot as plt\n"
   ]
  },
  {
   "cell_type": "code",
   "execution_count": 5,
   "metadata": {},
   "outputs": [
    {
     "data": {
      "text/plain": [
       "optimizer.adam.AdamOptimizer"
      ]
     },
     "execution_count": 5,
     "metadata": {},
     "output_type": "execute_result"
    }
   ],
   "source": [
    "inc_ang = 45.\n",
    "wls = np.linspace(400, 700, 500)\n",
    "\n",
    "# BaseSpectrum assumes zero absorption so only need to specify reflection\n",
    "def get_edge_filter():\n",
    "    R_spec = np.arange(500)\n",
    "    R_spec[R_spec < 250] = 0.\n",
    "    R_spec[R_spec >= 250] = 1.\n",
    "    return R_spec\n",
    "\n",
    "# target should be a list of Spectrum objects, enabling multi-angle design\n",
    "target = [BaseSpectrum(inc_ang, wls, get_edge_filter())]\n",
    "\n",
    "# film\n",
    "d_init = np.random.random(100) * 20 # 100 layers, on average, 1um in total\n",
    "film = TwoMaterialFilm('SiO2', 'TiO2', 'Si', d_init)\n",
    "\n",
    "optimizer = adam.AdamOptimizer(film, target, 200) # where are my code hints???"
   ]
  },
  {
   "cell_type": "code",
   "execution_count": null,
   "metadata": {},
   "outputs": [],
   "source": [
    "# NOTE: must support CUDA\n",
    "optimizer.optimize()"
   ]
  },
  {
   "cell_type": "code",
   "execution_count": null,
   "metadata": {},
   "outputs": [],
   "source": []
  }
 ],
 "metadata": {
  "kernelspec": {
   "display_name": "tfnn",
   "language": "python",
   "name": "python3"
  },
  "language_info": {
   "codemirror_mode": {
    "name": "ipython",
    "version": 3
   },
   "file_extension": ".py",
   "mimetype": "text/x-python",
   "name": "python",
   "nbconvert_exporter": "python",
   "pygments_lexer": "ipython3",
   "version": "3.10.11"
  },
  "orig_nbformat": 4
 },
 "nbformat": 4,
 "nbformat_minor": 2
}
